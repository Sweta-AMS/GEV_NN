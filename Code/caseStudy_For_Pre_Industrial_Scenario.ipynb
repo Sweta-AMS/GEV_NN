{
  "nbformat": 4,
  "nbformat_minor": 0,
  "metadata": {
    "colab": {
      "provenance": []
    },
    "kernelspec": {
      "name": "python3",
      "display_name": "Python 3"
    },
    "language_info": {
      "name": "python"
    }
  },
  "cells": [
    {
      "cell_type": "markdown",
      "source": [
        "# ***CASE STUDY:***\n",
        "\n",
        "---\n",
        "This is for the demonstration purpose of using the trained neural network to fit the Generalized Extreme Value (GEV) distribution to univariate extremes and estimate the parameters quickly."
      ],
      "metadata": {
        "id": "i-H_gRdRsz5l"
      }
    },
    {
      "cell_type": "code",
      "source": [
        "## -- Required packages --\n",
        "import pandas as pd\n",
        "import numpy as np\n",
        "import matplotlib.pyplot as plt\n",
        "import sklearn as sk\n",
        "import scipy\n",
        "import math\n",
        "import statistics\n",
        "from numpy import random\n",
        "from scipy.stats import genextreme as gev\n",
        "\n",
        "import tensorflow as tf\n",
        "from tensorflow import reduce_mean, square\n",
        "import tensorflow.keras as keras\n",
        "from tensorflow.keras.metrics import Mean\n",
        "from tensorflow.keras.models import Model, Sequential\n",
        "from tensorflow.keras.layers import Dense, Dropout, Input, Lambda, BatchNormalization\n",
        "from tensorflow.keras.optimizers import SGD, Adam, RMSprop\n",
        "from tensorflow.keras.callbacks import Callback, EarlyStopping, ReduceLROnPlateau, LearningRateScheduler\n",
        "from tensorflow.keras.layers import Input, Dense, Dropout\n",
        "import time\n",
        "import pickle\n",
        "\n",
        "import os\n",
        "import urllib.request"
      ],
      "metadata": {
        "id": "Ez3vvuvus5ex"
      },
      "execution_count": 1,
      "outputs": []
    },
    {
      "cell_type": "code",
      "source": [
        "## Connecting with my googlle drive to call the trained neural model, one could call the directory where they save the trained\n",
        "!git clone https://github.com/Sweta-AMS/Paper-Fast-parameter-estimation-of-Generalized-Extreme-Value-distribution-using-Neural-Networks.git"
      ],
      "metadata": {
        "colab": {
          "base_uri": "https://localhost:8080/"
        },
        "id": "HYYCSdbstAFy",
        "outputId": "17e9c399-84e4-4556-d229-791ba6a79b9a"
      },
      "execution_count": 2,
      "outputs": [
        {
          "output_type": "stream",
          "name": "stdout",
          "text": [
            "Cloning into 'Paper-Fast-parameter-estimation-of-Generalized-Extreme-Value-distribution-using-Neural-Networks'...\n",
            "remote: Enumerating objects: 123, done.\u001b[K\n",
            "remote: Counting objects: 100% (12/12), done.\u001b[K\n",
            "remote: Compressing objects: 100% (9/9), done.\u001b[K\n",
            "remote: Total 123 (delta 6), reused 3 (delta 3), pack-reused 111\u001b[K\n",
            "Receiving objects: 100% (123/123), 4.13 MiB | 27.43 MiB/s, done.\n",
            "Resolving deltas: 100% (40/40), done.\n"
          ]
        }
      ]
    },
    {
      "cell_type": "code",
      "source": [
        "pip install pyyaml h5py  # package required to call the trained models in HDF5 format"
      ],
      "metadata": {
        "colab": {
          "base_uri": "https://localhost:8080/"
        },
        "id": "D-FbUcQ6tIpx",
        "outputId": "f0f98ef0-97cb-455a-92a4-ddd8965002e6"
      },
      "execution_count": 3,
      "outputs": [
        {
          "output_type": "stream",
          "name": "stdout",
          "text": [
            "Requirement already satisfied: pyyaml in /usr/local/lib/python3.10/dist-packages (6.0.1)\n",
            "Requirement already satisfied: h5py in /usr/local/lib/python3.10/dist-packages (3.9.0)\n",
            "Requirement already satisfied: numpy>=1.17.3 in /usr/local/lib/python3.10/dist-packages (from h5py) (1.23.5)\n"
          ]
        }
      ]
    },
    {
      "cell_type": "code",
      "source": [
        "## -- Defining Percentile Set for extracting summary statisics to evaluate the model --\n",
        "# selected quantiles/percentiles mainly focus on the tail of the distribution, Q1, Q2,and Q3\n",
        "p_set= np.array([0.0001, 0.001, 0.01, 0.1, 0.25, 0.5, 0.75, 0.9, 0.99, 0.999, 0.9999])\n",
        "print(p_set.shape)"
      ],
      "metadata": {
        "colab": {
          "base_uri": "https://localhost:8080/"
        },
        "id": "zAn2GIiZec9m",
        "outputId": "3419875a-81d0-4b30-8354-d06164d8480b"
      },
      "execution_count": 4,
      "outputs": [
        {
          "output_type": "stream",
          "name": "stdout",
          "text": [
            "(11,)\n"
          ]
        }
      ]
    },
    {
      "cell_type": "markdown",
      "source": [
        "***Note***\n",
        "\n",
        "---\n",
        "This is an example of calling the trained neural model directly from the GitHub repository."
      ],
      "metadata": {
        "id": "jsApzhjjTP7c"
      }
    },
    {
      "cell_type": "code",
      "source": [
        "## -- Calling the trained Neural Model --:\n",
        "loaded_model = keras.models.load_model('/content/Paper-Fast-parameter-estimation-of-Generalized-Extreme-Value-distribution-using-Neural-Networks/Code/my_trained_model-NN-latest.h5')\n",
        "\n",
        "## Summary of the loaded model\n",
        "loaded_model.summary()"
      ],
      "metadata": {
        "colab": {
          "base_uri": "https://localhost:8080/"
        },
        "id": "-jCOIn5stLz6",
        "outputId": "e01c68cf-91d5-491f-8861-2705d47224c9"
      },
      "execution_count": 5,
      "outputs": [
        {
          "output_type": "stream",
          "name": "stdout",
          "text": [
            "Model: \"model\"\n",
            "_________________________________________________________________\n",
            " Layer (type)                Output Shape              Param #   \n",
            "=================================================================\n",
            " inputlayer (InputLayer)     [(None, 11)]              0         \n",
            "                                                                 \n",
            " layer1 (Dense)              (None, 512)               6144      \n",
            "                                                                 \n",
            " layer2 (Dense)              (None, 512)               262656    \n",
            "                                                                 \n",
            " layer3 (Dense)              (None, 512)               262656    \n",
            "                                                                 \n",
            " layer4 (Dense)              (None, 128)               65664     \n",
            "                                                                 \n",
            " layer5 (Dense)              (None, 128)               16512     \n",
            "                                                                 \n",
            " outputlayer (Dense)         (None, 3)                 387       \n",
            "                                                                 \n",
            "=================================================================\n",
            "Total params: 614019 (2.34 MB)\n",
            "Trainable params: 614019 (2.34 MB)\n",
            "Non-trainable params: 0 (0.00 Byte)\n",
            "_________________________________________________________________\n"
          ]
        }
      ]
    },
    {
      "cell_type": "code",
      "source": [
        "## -- Package required to load the case study dataset --\n",
        "!pip install netCDF4\n",
        "import netCDF4 as nc"
      ],
      "metadata": {
        "colab": {
          "base_uri": "https://localhost:8080/"
        },
        "id": "N4lXIPPlz1KW",
        "outputId": "005afdb6-a886-45e5-89fa-f1c1cdd3bf81"
      },
      "execution_count": 6,
      "outputs": [
        {
          "output_type": "stream",
          "name": "stdout",
          "text": [
            "Collecting netCDF4\n",
            "  Downloading netCDF4-1.6.5-cp310-cp310-manylinux_2_17_x86_64.manylinux2014_x86_64.whl (5.5 MB)\n",
            "\u001b[2K     \u001b[90m━━━━━━━━━━━━━━━━━━━━━━━━━━━━━━━━━━━━━━━━\u001b[0m \u001b[32m5.5/5.5 MB\u001b[0m \u001b[31m27.4 MB/s\u001b[0m eta \u001b[36m0:00:00\u001b[0m\n",
            "\u001b[?25hCollecting cftime (from netCDF4)\n",
            "  Downloading cftime-1.6.3-cp310-cp310-manylinux_2_17_x86_64.manylinux2014_x86_64.whl (1.3 MB)\n",
            "\u001b[2K     \u001b[90m━━━━━━━━━━━━━━━━━━━━━━━━━━━━━━━━━━━━━━━━\u001b[0m \u001b[32m1.3/1.3 MB\u001b[0m \u001b[31m23.4 MB/s\u001b[0m eta \u001b[36m0:00:00\u001b[0m\n",
            "\u001b[?25hRequirement already satisfied: certifi in /usr/local/lib/python3.10/dist-packages (from netCDF4) (2023.11.17)\n",
            "Requirement already satisfied: numpy in /usr/local/lib/python3.10/dist-packages (from netCDF4) (1.23.5)\n",
            "Installing collected packages: cftime, netCDF4\n",
            "Successfully installed cftime-1.6.3 netCDF4-1.6.5\n"
          ]
        }
      ]
    },
    {
      "cell_type": "markdown",
      "source": [
        "***Note***\n",
        "\n",
        "---\n",
        "\n",
        "We cannot share the case study with the public at the moment, but if you would like to access it, please shoot us an email at *srai@mines.edu*. One could follow the code to reproduce the results and estimate the GEV parameters."
      ],
      "metadata": {
        "id": "4Fr5mxE-TvXc"
      }
    },
    {
      "cell_type": "markdown",
      "source": [
        "## <span style='font-family:Times New Roman'> CO2 289 ppm level"
      ],
      "metadata": {
        "id": "QUDZ9d9rtbcS"
      }
    },
    {
      "cell_type": "code",
      "source": [
        "from google.colab import drive\n",
        "drive.mount('/content/drive')"
      ],
      "metadata": {
        "colab": {
          "base_uri": "https://localhost:8080/"
        },
        "id": "E_TsGH87UYWE",
        "outputId": "7ee498bc-9aa7-4f16-d97e-6e2272e2062a"
      },
      "execution_count": 7,
      "outputs": [
        {
          "output_type": "stream",
          "name": "stdout",
          "text": [
            "Mounted at /content/drive\n"
          ]
        }
      ]
    },
    {
      "cell_type": "code",
      "source": [
        "maxtemp_dataset_CO2L289 ='/content/drive/My Drive/Data storage - Paper 1/CaseStudy-Data&Results/1870_long2_last1000y_combine_TREFHTMX_US_only.nc'\n",
        "maxtemp_dataset_CO2L289 = nc.Dataset(maxtemp_dataset_CO2L289)\n",
        "\n",
        "lat_L289 = maxtemp_dataset_CO2L289.variables['lat'][:]\n",
        "lon_L289 = maxtemp_dataset_CO2L289.variables['lon'][:]"
      ],
      "metadata": {
        "id": "9GATLnvftdg4"
      },
      "execution_count": 8,
      "outputs": []
    },
    {
      "cell_type": "code",
      "source": [
        "print(len(lat_L289))\n",
        "print(len(lon_L289))"
      ],
      "metadata": {
        "colab": {
          "base_uri": "https://localhost:8080/"
        },
        "id": "xUoSdzvSI3Lx",
        "outputId": "66ce9fa3-0e0f-491b-d775-5d6c3e091824"
      },
      "execution_count": 9,
      "outputs": [
        {
          "output_type": "stream",
          "name": "stdout",
          "text": [
            "7\n",
            "19\n"
          ]
        }
      ]
    },
    {
      "cell_type": "code",
      "source": [
        "daily_max_temp_L289_K = maxtemp_dataset_CO2L289.variables['TREFHTMX'][:] # temperature measured in Kelvin\n",
        "print(np.shape(daily_max_temp_L289_K))\n",
        "\n",
        "daily_max_temp_L289_C = daily_max_temp_L289_K-273.15\n",
        "\n",
        "time_L289 = maxtemp_dataset_CO2L289.variables['time'][:] # dates as we are dealing with daily data\n",
        "time_band_L289 = maxtemp_dataset_CO2L289.variables['time_bnds'][:]"
      ],
      "metadata": {
        "id": "HVDe9vaWuA2W",
        "colab": {
          "base_uri": "https://localhost:8080/"
        },
        "outputId": "080aae6f-9857-405b-e5c7-e522f31e1d41"
      },
      "execution_count": 10,
      "outputs": [
        {
          "output_type": "stream",
          "name": "stdout",
          "text": [
            "(365000, 7, 19)\n"
          ]
        }
      ]
    },
    {
      "cell_type": "code",
      "source": [
        "## Extract Maximum temperature over the year\n",
        "annual_maxL289 = np.empty((len(lat_L289), len(lon_L289), 1000))\n",
        "\n",
        "for i in range(len(lat_L289)):\n",
        "  for j in range(len(lon_L289)):\n",
        "    ## list to store the maximum annual temperature over 1000-yr\n",
        "    temp = []\n",
        "    ## lower limit\n",
        "    a = 0\n",
        "    ## upper limit\n",
        "    b = 365\n",
        "\n",
        "    ## 1000 year time run\n",
        "    for t in range(1000):\n",
        "      temp.append(np.max(daily_max_temp_L289_C[range(a, b), i, j]))\n",
        "      ## Updating the bounds\n",
        "      if t<999:\n",
        "        a = int(b)\n",
        "        b = int(b+365)\n",
        "\n",
        "    annual_maxL289[i, j, :] = temp"
      ],
      "metadata": {
        "id": "F_LNxd6huDeE"
      },
      "execution_count": 11,
      "outputs": []
    },
    {
      "cell_type": "code",
      "source": [
        "## Standardized the values along with extracting the quantiles\n",
        "CS_Percentile_MatL289 = np.empty((len(lat_L289), len(lon_L289), len(p_set)))\n",
        "CS_MedianL289 = np.empty((len(lat_L289), len(lon_L289)))\n",
        "CS_IQRL289 = np.empty((len(lat_L289), len(lon_L289)))\n",
        "\n",
        "std_Data_minL289 = np.empty((len(lat_L289), len(lon_L289)))\n",
        "std_Data_maxL289 = np.empty((len(lat_L289), len(lon_L289)))\n",
        "\n",
        "for i in range(len(lat_L289)):\n",
        "  for j in range(len(lon_L289)):\n",
        "    ## Summary\n",
        "    data_ = annual_maxL289[i, j, :]\n",
        "\n",
        "    median_ = statistics.median(data_)\n",
        "    IQR_ = scipy.stats.iqr(data_)\n",
        "\n",
        "    ## Storing: Median & IQR\n",
        "    CS_MedianL289[i, j]= median_\n",
        "    CS_IQRL289[i, j]= IQR_\n",
        "\n",
        "    ## Standardization of sample\n",
        "    std_Data = (data_- median_)/IQR_\n",
        "\n",
        "    std_Data_minL289[i,j] = np.min(std_Data)\n",
        "    std_Data_maxL289[i,j] = np.max(std_Data)\n",
        "\n",
        "    ## Extracting percentile values\n",
        "    CS_Percentile_MatL289[i, j, :] = np.percentile(std_Data, p_set*np.array(100))"
      ],
      "metadata": {
        "id": "f96ifBbSuGls"
      },
      "execution_count": 12,
      "outputs": []
    },
    {
      "cell_type": "code",
      "source": [
        "# -- PARAMETER ESTIMATION USING NEURAL NETWORK --\n",
        "# Prediction over the Case Study\n",
        "store_pred_CSL289 = np.empty((len(lat_L289), len(lon_L289), 3))\n",
        "\n",
        "# record time\n",
        "start_time = time.time()\n",
        "for i in range(len(lat_L289)):\n",
        "  for j in range(len(lon_L289)):\n",
        "    # Predicted Location, Scale, Shape parameters\n",
        "    store_pred_CSL289[i, j, :] = loaded_model.predict(np.reshape(CS_Percentile_MatL289[i, j, :], (1,-1)))\n",
        "\n",
        "print(\"--- %s seconds ---\" % (time.time()-start_time))\n",
        "time_NN = (time.time()-start_time)"
      ],
      "metadata": {
        "id": "QvGbX3AOuJA8",
        "colab": {
          "base_uri": "https://localhost:8080/"
        },
        "outputId": "3612af75-1b64-4a2b-faca-638a87597888"
      },
      "execution_count": 13,
      "outputs": [
        {
          "output_type": "stream",
          "name": "stdout",
          "text": [
            "1/1 [==============================] - 0s 152ms/step\n",
            "1/1 [==============================] - 0s 19ms/step\n",
            "1/1 [==============================] - 0s 19ms/step\n",
            "1/1 [==============================] - 0s 20ms/step\n",
            "1/1 [==============================] - 0s 23ms/step\n",
            "1/1 [==============================] - 0s 21ms/step\n",
            "1/1 [==============================] - 0s 19ms/step\n",
            "1/1 [==============================] - 0s 20ms/step\n",
            "1/1 [==============================] - 0s 19ms/step\n",
            "1/1 [==============================] - 0s 19ms/step\n",
            "1/1 [==============================] - 0s 23ms/step\n",
            "1/1 [==============================] - 0s 21ms/step\n",
            "1/1 [==============================] - 0s 21ms/step\n",
            "1/1 [==============================] - 0s 21ms/step\n",
            "1/1 [==============================] - 0s 19ms/step\n",
            "1/1 [==============================] - 0s 23ms/step\n",
            "1/1 [==============================] - 0s 20ms/step\n",
            "1/1 [==============================] - 0s 21ms/step\n",
            "1/1 [==============================] - 0s 22ms/step\n",
            "1/1 [==============================] - 0s 21ms/step\n",
            "1/1 [==============================] - 0s 19ms/step\n",
            "1/1 [==============================] - 0s 22ms/step\n",
            "1/1 [==============================] - 0s 19ms/step\n",
            "1/1 [==============================] - 0s 19ms/step\n",
            "1/1 [==============================] - 0s 37ms/step\n",
            "1/1 [==============================] - 0s 19ms/step\n",
            "1/1 [==============================] - 0s 20ms/step\n",
            "1/1 [==============================] - 0s 22ms/step\n",
            "1/1 [==============================] - 0s 21ms/step\n",
            "1/1 [==============================] - 0s 33ms/step\n",
            "1/1 [==============================] - 0s 33ms/step\n",
            "1/1 [==============================] - 0s 46ms/step\n",
            "1/1 [==============================] - 0s 31ms/step\n",
            "1/1 [==============================] - 0s 35ms/step\n",
            "1/1 [==============================] - 0s 63ms/step\n",
            "1/1 [==============================] - 0s 34ms/step\n",
            "1/1 [==============================] - 0s 41ms/step\n",
            "1/1 [==============================] - 0s 35ms/step\n",
            "1/1 [==============================] - 0s 31ms/step\n",
            "1/1 [==============================] - 0s 32ms/step\n",
            "1/1 [==============================] - 0s 66ms/step\n",
            "1/1 [==============================] - 0s 89ms/step\n",
            "1/1 [==============================] - 0s 72ms/step\n",
            "1/1 [==============================] - 0s 64ms/step\n",
            "1/1 [==============================] - 0s 112ms/step\n",
            "1/1 [==============================] - 0s 118ms/step\n",
            "1/1 [==============================] - 0s 106ms/step\n",
            "1/1 [==============================] - 0s 120ms/step\n",
            "1/1 [==============================] - 0s 130ms/step\n",
            "1/1 [==============================] - 0s 69ms/step\n",
            "1/1 [==============================] - 0s 49ms/step\n",
            "1/1 [==============================] - 0s 74ms/step\n",
            "1/1 [==============================] - 0s 85ms/step\n",
            "1/1 [==============================] - 0s 94ms/step\n",
            "1/1 [==============================] - 0s 32ms/step\n",
            "1/1 [==============================] - 0s 36ms/step\n",
            "1/1 [==============================] - 0s 29ms/step\n",
            "1/1 [==============================] - 0s 35ms/step\n",
            "1/1 [==============================] - 0s 60ms/step\n",
            "1/1 [==============================] - 0s 84ms/step\n",
            "1/1 [==============================] - 0s 39ms/step\n",
            "1/1 [==============================] - 0s 108ms/step\n",
            "1/1 [==============================] - 0s 39ms/step\n",
            "1/1 [==============================] - 0s 20ms/step\n",
            "1/1 [==============================] - 0s 20ms/step\n",
            "1/1 [==============================] - 0s 20ms/step\n",
            "1/1 [==============================] - 0s 21ms/step\n",
            "1/1 [==============================] - 0s 22ms/step\n",
            "1/1 [==============================] - 0s 20ms/step\n",
            "1/1 [==============================] - 0s 21ms/step\n",
            "1/1 [==============================] - 0s 19ms/step\n",
            "1/1 [==============================] - 0s 21ms/step\n",
            "1/1 [==============================] - 0s 20ms/step\n",
            "1/1 [==============================] - 0s 19ms/step\n",
            "1/1 [==============================] - 0s 20ms/step\n",
            "1/1 [==============================] - 0s 20ms/step\n",
            "1/1 [==============================] - 0s 20ms/step\n",
            "1/1 [==============================] - 0s 24ms/step\n",
            "1/1 [==============================] - 0s 19ms/step\n",
            "1/1 [==============================] - 0s 20ms/step\n",
            "1/1 [==============================] - 0s 19ms/step\n",
            "1/1 [==============================] - 0s 20ms/step\n",
            "1/1 [==============================] - 0s 21ms/step\n",
            "1/1 [==============================] - 0s 30ms/step\n",
            "1/1 [==============================] - 0s 23ms/step\n",
            "1/1 [==============================] - 0s 20ms/step\n",
            "1/1 [==============================] - 0s 19ms/step\n",
            "1/1 [==============================] - 0s 19ms/step\n",
            "1/1 [==============================] - 0s 21ms/step\n",
            "1/1 [==============================] - 0s 20ms/step\n",
            "1/1 [==============================] - 0s 19ms/step\n",
            "1/1 [==============================] - 0s 20ms/step\n",
            "1/1 [==============================] - 0s 20ms/step\n",
            "1/1 [==============================] - 0s 19ms/step\n",
            "1/1 [==============================] - 0s 19ms/step\n",
            "1/1 [==============================] - 0s 19ms/step\n",
            "1/1 [==============================] - 0s 23ms/step\n",
            "1/1 [==============================] - 0s 28ms/step\n",
            "1/1 [==============================] - 0s 21ms/step\n",
            "1/1 [==============================] - 0s 19ms/step\n",
            "1/1 [==============================] - 0s 22ms/step\n",
            "1/1 [==============================] - 0s 20ms/step\n",
            "1/1 [==============================] - 0s 20ms/step\n",
            "1/1 [==============================] - 0s 19ms/step\n",
            "1/1 [==============================] - 0s 19ms/step\n",
            "1/1 [==============================] - 0s 19ms/step\n",
            "1/1 [==============================] - 0s 19ms/step\n",
            "1/1 [==============================] - 0s 19ms/step\n",
            "1/1 [==============================] - 0s 22ms/step\n",
            "1/1 [==============================] - 0s 21ms/step\n",
            "1/1 [==============================] - 0s 20ms/step\n",
            "1/1 [==============================] - 0s 30ms/step\n",
            "1/1 [==============================] - 0s 20ms/step\n",
            "1/1 [==============================] - 0s 20ms/step\n",
            "1/1 [==============================] - 0s 20ms/step\n",
            "1/1 [==============================] - 0s 20ms/step\n",
            "1/1 [==============================] - 0s 19ms/step\n",
            "1/1 [==============================] - 0s 19ms/step\n",
            "1/1 [==============================] - 0s 20ms/step\n",
            "1/1 [==============================] - 0s 20ms/step\n",
            "1/1 [==============================] - 0s 21ms/step\n",
            "1/1 [==============================] - 0s 20ms/step\n",
            "1/1 [==============================] - 0s 20ms/step\n",
            "1/1 [==============================] - 0s 21ms/step\n",
            "1/1 [==============================] - 0s 22ms/step\n",
            "1/1 [==============================] - 0s 19ms/step\n",
            "1/1 [==============================] - 0s 20ms/step\n",
            "1/1 [==============================] - 0s 19ms/step\n",
            "1/1 [==============================] - 0s 18ms/step\n",
            "1/1 [==============================] - 0s 19ms/step\n",
            "1/1 [==============================] - 0s 21ms/step\n",
            "1/1 [==============================] - 0s 20ms/step\n",
            "1/1 [==============================] - 0s 20ms/step\n",
            "--- 15.33420991897583 seconds ---\n"
          ]
        }
      ]
    },
    {
      "cell_type": "code",
      "source": [
        "## -- Location, Scale, and Shape predictions\n",
        "cs_scaled_loc_pred_valsL289 = store_pred_CSL289[:, :, 0]\n",
        "cs_delta_pred_valsL289 = store_pred_CSL289[:, :, 1]\n",
        "\n",
        "\n",
        "## Converting delta to sc_scale\n",
        "mch_epsilon = np.finfo(float).eps\n",
        "is_weibull = store_pred_CSL289[:, :, 2]  > mch_epsilon\n",
        "\n",
        "## For frechet\n",
        "sc_scale_frechet_pred_valsL289 = (store_pred_CSL289[:, :, 2]*(std_Data_minL289 - cs_delta_pred_valsL289 )) + np.exp(cs_delta_pred_valsL289 )\n",
        "\n",
        "## For weibull\n",
        "sc_scale_weibull_pred_valsL289 = (store_pred_CSL289[:, :, 2] *(std_Data_maxL289 - cs_delta_pred_valsL289 )) + np.exp(cs_delta_pred_valsL289)\n",
        "\n",
        "## Estimate of the transformed scale parameter\n",
        "cs_scaled_scale_pred_valsL289 = np.where(is_weibull, sc_scale_weibull_pred_valsL289, sc_scale_frechet_pred_valsL289)"
      ],
      "metadata": {
        "id": "xM8kPWq7QFuE"
      },
      "execution_count": 14,
      "outputs": []
    },
    {
      "cell_type": "code",
      "source": [
        "## -- Location, Scale, and Shape predictions --:\n",
        "## -- Back-transformed Location, Scale parameter\n",
        "## Transforming back to original form of location and scale parameter values\n",
        "CS_Loc_predL289 = (cs_scaled_loc_pred_valsL289*np.array(CS_IQRL289)) + np.array(CS_MedianL289)\n",
        "CS_Scale_predL289 = cs_scaled_scale_pred_valsL289*np.array(CS_IQRL289)\n",
        "CS_Shape_predL289 = -store_pred_CSL289[:, :, 2]"
      ],
      "metadata": {
        "id": "VAz5tO32vfb0"
      },
      "execution_count": 15,
      "outputs": []
    },
    {
      "cell_type": "code",
      "source": [
        "## -- Calculating the return values across different return periods --:\n",
        "return_vals20_estL289= gev.isf(1/20,\n",
        "                             CS_Shape_predL289,\n",
        "                             CS_Loc_predL289,\n",
        "                             CS_Scale_predL289)\n",
        "return_vals50_estL289= gev.isf(1/50,\n",
        "                             CS_Shape_predL289,\n",
        "                             CS_Loc_predL289,\n",
        "                             CS_Scale_predL289)\n",
        "return_vals1000_estL289= gev.isf(1/1000,\n",
        "                             CS_Shape_predL289,\n",
        "                             CS_Loc_predL289,\n",
        "                             CS_Scale_predL289)"
      ],
      "metadata": {
        "id": "lsgXJ5yCvrOa"
      },
      "execution_count": 16,
      "outputs": []
    },
    {
      "cell_type": "markdown",
      "source": [
        "### Case study: L289 Predicted Shape"
      ],
      "metadata": {
        "id": "0gk2_dqWvwm7"
      }
    },
    {
      "cell_type": "code",
      "source": [
        "fn = 'CS_L289.nc'\n",
        "ds = nc.Dataset(fn, 'w', format='NETCDF4')\n",
        "lat = ds.createDimension('lat', len(lat_L289))\n",
        "lon = ds.createDimension('lon', len(lon_L289))\n",
        "\n",
        "latsL289 = ds.createVariable('lat', 'f4', ('lat',))\n",
        "lonsL289 = ds.createVariable('lon', 'f4', ('lon',))\n",
        "\n",
        "CS_ShapeL289 = ds.createVariable('CS_Shape', 'f4', ('lat', 'lon',))\n",
        "CS_ShapeL289.units = 'Unknown'\n",
        "\n",
        "CS_ScaleL289 = ds.createVariable('CS_Scale', 'f4', ('lat', 'lon',))\n",
        "CS_ScaleL289.units = 'Unknown'\n",
        "\n",
        "CS_LocL289 = ds.createVariable('CS_Loc', 'f4', ('lat', 'lon',))\n",
        "CS_LocL289.units = 'Unknown'\n",
        "\n",
        "returnL20 = ds.createVariable('Return_L20', 'f4', ('lat', 'lon',))\n",
        "returnL20.units = 'Unknown'\n",
        "\n",
        "returnL50 = ds.createVariable('Return_L50', 'f4', ('lat', 'lon',))\n",
        "returnL50.units = 'Unknown'\n",
        "\n",
        "returnL1000  = ds.createVariable('Return_L1000', 'f4', ('lat', 'lon',))\n",
        "returnL1000.units = 'Unknown'\n",
        "\n",
        "latsL289[:] = lat_L289\n",
        "lonsL289[:] = lon_L289\n",
        "\n",
        "CS_ShapeL289[ :, :] =  CS_Shape_predL289 # CS_Shape_predL289 # mind you this is c\n",
        "CS_ScaleL289[ :, :] = CS_Scale_predL289\n",
        "CS_LocL289[ :, :] = CS_Loc_predL289\n",
        "\n",
        "returnL20[ :, :] = return_vals20_estL289\n",
        "returnL50[ :, :] = return_vals50_estL289\n",
        "returnL1000[ :, :] = return_vals1000_estL289\n",
        "ds.close()"
      ],
      "metadata": {
        "id": "-UZaZtu2vxo7"
      },
      "execution_count": 73,
      "outputs": []
    },
    {
      "cell_type": "code",
      "source": [
        "# ## SAVE NETCDF File:\n",
        "# CS_L289 ='CS_L289.nc'\n",
        "CS_Pred_L289 = nc.Dataset(CS_L289)"
      ],
      "metadata": {
        "id": "W-JsVIzVv0sk"
      },
      "execution_count": 74,
      "outputs": []
    },
    {
      "cell_type": "code",
      "source": [
        "!pip install cartopy"
      ],
      "metadata": {
        "colab": {
          "base_uri": "https://localhost:8080/"
        },
        "id": "HnkGyQfdXRvy",
        "outputId": "614985ee-a346-4833-ac43-6c79d571caf7"
      },
      "execution_count": 25,
      "outputs": [
        {
          "output_type": "stream",
          "name": "stdout",
          "text": [
            "Requirement already satisfied: cartopy in /usr/local/lib/python3.10/dist-packages (0.22.0)\n",
            "Requirement already satisfied: numpy>=1.21 in /usr/local/lib/python3.10/dist-packages (from cartopy) (1.23.5)\n",
            "Requirement already satisfied: matplotlib>=3.4 in /usr/local/lib/python3.10/dist-packages (from cartopy) (3.7.1)\n",
            "Requirement already satisfied: shapely>=1.7 in /usr/local/lib/python3.10/dist-packages (from cartopy) (2.0.2)\n",
            "Requirement already satisfied: packaging>=20 in /usr/local/lib/python3.10/dist-packages (from cartopy) (23.2)\n",
            "Requirement already satisfied: pyshp>=2.1 in /usr/local/lib/python3.10/dist-packages (from cartopy) (2.3.1)\n",
            "Requirement already satisfied: pyproj>=3.1.0 in /usr/local/lib/python3.10/dist-packages (from cartopy) (3.6.1)\n",
            "Requirement already satisfied: contourpy>=1.0.1 in /usr/local/lib/python3.10/dist-packages (from matplotlib>=3.4->cartopy) (1.2.0)\n",
            "Requirement already satisfied: cycler>=0.10 in /usr/local/lib/python3.10/dist-packages (from matplotlib>=3.4->cartopy) (0.12.1)\n",
            "Requirement already satisfied: fonttools>=4.22.0 in /usr/local/lib/python3.10/dist-packages (from matplotlib>=3.4->cartopy) (4.47.2)\n",
            "Requirement already satisfied: kiwisolver>=1.0.1 in /usr/local/lib/python3.10/dist-packages (from matplotlib>=3.4->cartopy) (1.4.5)\n",
            "Requirement already satisfied: pillow>=6.2.0 in /usr/local/lib/python3.10/dist-packages (from matplotlib>=3.4->cartopy) (9.4.0)\n",
            "Requirement already satisfied: pyparsing>=2.3.1 in /usr/local/lib/python3.10/dist-packages (from matplotlib>=3.4->cartopy) (3.1.1)\n",
            "Requirement already satisfied: python-dateutil>=2.7 in /usr/local/lib/python3.10/dist-packages (from matplotlib>=3.4->cartopy) (2.8.2)\n",
            "Requirement already satisfied: certifi in /usr/local/lib/python3.10/dist-packages (from pyproj>=3.1.0->cartopy) (2023.11.17)\n",
            "Requirement already satisfied: six>=1.5 in /usr/local/lib/python3.10/dist-packages (from python-dateutil>=2.7->matplotlib>=3.4->cartopy) (1.16.0)\n"
          ]
        }
      ]
    },
    {
      "cell_type": "code",
      "source": [
        "import numpy as np\n",
        "import matplotlib.pyplot as plt\n",
        "import cartopy.crs as ccrs\n",
        "import cartopy.feature as cfeature\n",
        "\n",
        "## Assuming CS_Pred_L289 is a netCDF variable\n",
        "lons = CS_Pred_L289.variables['lon'][:]\n",
        "lats = CS_Pred_L289.variables['lat'][:]\n",
        "\n",
        "# Create a Cartopy projection\n",
        "fig, ax = plt.subplots(subplot_kw={'projection': ccrs.Mercator()})\n",
        "ax.set_extent([np.min(lons), np.max(lons), np.min(lats), np.max(lats)], crs=ccrs.PlateCarree())\n",
        "\n",
        "# Plot the data\n",
        "c_scheme = ax.pcolormesh(lons, lats, np.log(CS_Pred_L289.variables['CS_Scale']), cmap='bwr', transform=ccrs.PlateCarree())\n",
        "\n",
        "# Draw coastlines and states\n",
        "ax.coastlines()\n",
        "ax.add_feature(cfeature.BORDERS, linestyle=':')\n",
        "ax.add_feature(cfeature.STATES, linestyle='--')\n",
        "\n",
        "# Add colorbar\n",
        "cbar = plt.colorbar(c_scheme, location='right', pad=0.1)\n",
        "\n",
        "# Set title\n",
        "plt.title(chr(963), fontsize=20)\n",
        "\n",
        "# Show the plot\n",
        "plt.show()"
      ],
      "metadata": {
        "colab": {
          "base_uri": "https://localhost:8080/",
          "height": 407
        },
        "id": "agoI3YfgcuO7",
        "outputId": "157b87be-6d3f-4bf9-80a2-a7725c288b1d"
      },
      "execution_count": 75,
      "outputs": [
        {
          "output_type": "display_data",
          "data": {
            "text/plain": [
              "<Figure size 640x480 with 2 Axes>"
            ],
            "image/png": "[encoded data removed]"
          },
          "metadata": {}
        }
      ]
    },
    {
      "cell_type": "code",
      "source": [
        "import numpy as np\n",
        "import matplotlib.pyplot as plt\n",
        "import cartopy.crs as ccrs\n",
        "import cartopy.feature as cfeature\n",
        "\n",
        "## Assuming CS_Pred_L289 is a netCDF variable or similar\n",
        "lons = CS_Pred_L289.variables['lon'][:]\n",
        "lats = CS_Pred_L289.variables['lat'][:]\n",
        "\n",
        "## Create a Cartopy projection\n",
        "fig, ax = plt.subplots(subplot_kw={'projection': ccrs.Mercator()})\n",
        "ax.set_extent([np.min(lons), np.max(lons), np.min(lats), np.max(lats)], crs=ccrs.PlateCarree())\n",
        "\n",
        "# Plot the data with reversed white-to-blue color map\n",
        "c_scheme = ax.pcolormesh(lons, lats, CS_Pred_L289.variables['CS_Shape'], cmap='Blues_r', transform=ccrs.PlateCarree())\n",
        "\n",
        "# Draw coastlines and states\n",
        "ax.coastlines()\n",
        "ax.add_feature(cfeature.BORDERS, linestyle=':')\n",
        "ax.add_feature(cfeature.STATES, linestyle='--')\n",
        "\n",
        "# Add colorbar\n",
        "cbar = plt.colorbar(c_scheme, location='right', pad=0.1)\n",
        "\n",
        "# Set title\n",
        "plt.title(chr(958), fontsize=20) # (956) this is for mu\n",
        "\n",
        "# Show the plot\n",
        "plt.show()"
      ],
      "metadata": {
        "colab": {
          "base_uri": "https://localhost:8080/",
          "height": 406
        },
        "id": "xSOkSCuvc7jw",
        "outputId": "a66fba12-f9af-40b7-fdb2-475250bf9926"
      },
      "execution_count": 77,
      "outputs": [
        {
          "output_type": "display_data",
          "data": {
            "text/plain": [
              "<Figure size 640x480 with 2 Axes>"
            ],
            "image/png": "[encoded data removed]"
          },
          "metadata": {}
        }
      ]
    },
    {
      "cell_type": "code",
      "source": [
        "# -- Generating sample for Bootstrap Sample to avoid looping -- #\n",
        "# Function to compute the Percentile matrix for the standardized data\n",
        "def boot_Z_quantiles(seed, shape, loc, scale, p_vec, N, B):\n",
        "    \"\"\"\n",
        "    Function to return 'Quantile matrix' for different simulated sample over same parameter\n",
        "    Arguments:\n",
        "    * seed = set seed to generate a fix set of random sample from GEV distribution\n",
        "    * shape, loc, scale_vec = simulated shape, location, scale parameter value\n",
        "      -> REQUIRED to generate GEV\n",
        "      -> ALSO RESPONSE VARIABLE!\n",
        "\n",
        "    * p_vec = quantile set\n",
        "    * N = GEV sample generated for each parameter combination\n",
        "      -> is set to 100 for now.\n",
        "    * B = no of bootstrap repeatations\n",
        "    \"\"\"\n",
        "    # setting the seed for sample generation\n",
        "    random.seed(seed)\n",
        "\n",
        "    # -- initializing the matrices & vectors --\n",
        "    percentile_Matrix = np.empty((B,len(p_vec)))# store the counts\n",
        "    storeIqr = [] # store sample IQR\n",
        "    storeMedian = [] # store sample MEDIAN\n",
        "\n",
        "    storeZmin = [] # store sample MEDIAN\n",
        "    storeZmax = [] # store sample MEDIAN\n",
        "\n",
        "    # -- extracting counts --\n",
        "    for i in range(B):\n",
        "\n",
        "        # sample generation\n",
        "        X_sample = gev.rvs(c=shape,\n",
        "                           loc=loc,\n",
        "                           scale=scale,\n",
        "                           size=N)\n",
        "        #print(X_sample)\n",
        "        # computing sample Median and IQR\n",
        "        Median_sample = np.median(X_sample)\n",
        "        Iqr_sample = scipy.stats.iqr(X_sample)\n",
        "\n",
        "        storeMedian.append(Median_sample)\n",
        "        storeIqr.append(Iqr_sample)\n",
        "\n",
        "        # standardization of the data\n",
        "        Z_sample = (X_sample-Median_sample)/Iqr_sample\n",
        "        storeZmin.append(np.min(Z_sample))\n",
        "        storeZmax.append(np.max(Z_sample))\n",
        "\n",
        "        percentile_Matrix[i,:] = np.percentile(Z_sample, p_vec*np.array(100))\n",
        "\n",
        "    return percentile_Matrix, np.array(storeMedian), np.array(storeIqr), np.array(storeZmin), np.array(storeZmax)"
      ],
      "metadata": {
        "id": "07RkPellmYMp"
      },
      "execution_count": 78,
      "outputs": []
    },
    {
      "cell_type": "code",
      "source": [
        "B= 1000\n",
        "N= 1000\n",
        "boot_est = np.empty((len(lat_L289), len(lon_L289), 3))\n",
        "boot_return = np.empty((len(lat_L289), len(lon_L289), 3))\n",
        "boot_sd= np.empty((len(lat_L289), len(lon_L289), 3))\n",
        "boot_return_sd= np.empty((len(lat_L289), len(lon_L289), 3))\n",
        "\n",
        "# record time\n",
        "start_time= time.time()\n",
        "for i in range(len(lat_L289)):\n",
        "  for j in range(len(lon_L289)):\n",
        "    # -- Bootstrap --\n",
        "    # -- Computing the Percentile Matrix for Bootstrap --\n",
        "    percentileMatBoot, sampleMediansBoot, sampleIQRsBoot, sampleZminsBoot, sampleZmaxsBoot= boot_Z_quantiles(seed= i+j,\n",
        "                                                                                                             shape=-CS_Shape_predL289[i,j],\n",
        "                                                                                                             loc=CS_Loc_predL289[i,j],\n",
        "                                                                                                             scale=CS_Scale_predL289[i,j],\n",
        "                                                                                                             p_vec=p_set,\n",
        "                                                                                                             N=N,\n",
        "                                                                                                             B=B)\n",
        "    # Bootstrap Estimates\n",
        "    fitted_vals_boot= loaded_model.predict(percentileMatBoot) # dimension (Bx11)\n",
        "\n",
        "    # scaled estimates of Loc-Scale parameters\n",
        "    sc_loc_pred_vals_boot= fitted_vals_boot[:,0] # dimension (Bx1)\n",
        "    delta_pred_vals_boot= fitted_vals_boot[:,1] # dimension (Bx1)\n",
        "    shape_pred_vals_boot= fitted_vals_boot[:,2]  # dimension (Bx1)\n",
        "\n",
        "\n",
        "    # Converting delta_pred_vals1000 to sc_scale_pred_vals1000\n",
        "    is_weibull_pred_boot = shape_pred_vals_boot > mch_epsilon\n",
        "\n",
        "    # for frechet\n",
        "    sc_scale_frechet_pred_boot = (shape_pred_vals_boot*(sampleZminsBoot - sc_loc_pred_vals_boot)) + np.exp(delta_pred_vals_boot)\n",
        "\n",
        "    # for weibull\n",
        "    sc_scale_weibull_pred_boot = (shape_pred_vals_boot*(sampleZmaxsBoot - sc_loc_pred_vals_boot)) + np.exp(delta_pred_vals_boot)\n",
        "\n",
        "    # Estimate of the transformed scale parameter\n",
        "    sc_scale_pred_vals_boot = np.where(is_weibull_pred_boot, sc_scale_weibull_pred_boot, sc_scale_frechet_pred_boot)\n",
        "\n",
        "\n",
        "\n",
        "    # Back-transformed Loc-Scale parameters\n",
        "    loc_pred_vals_boot= (sc_loc_pred_vals_boot*sampleIQRsBoot)+ sampleMediansBoot # dimension (Bx1)\n",
        "    scale_pred_vals_boot= sc_scale_pred_vals_boot*sampleIQRsBoot # dimension (Bx1)\n",
        "\n",
        "\n",
        "    return_pred_vals20_boot= gev.isf(1/20,\n",
        "                                     shape_pred_vals_boot,\n",
        "                                     loc_pred_vals_boot,\n",
        "                                     scale_pred_vals_boot)\n",
        "    return_pred_vals50_boot= gev.isf(1/50,\n",
        "                                     shape_pred_vals_boot,\n",
        "                                     loc_pred_vals_boot,\n",
        "                                     scale_pred_vals_boot)\n",
        "    return_pred_vals1000_boot= gev.isf(1/1000,\n",
        "                                      shape_pred_vals_boot,\n",
        "                                      loc_pred_vals_boot,\n",
        "                                      scale_pred_vals_boot)\n",
        "\n",
        "    # storing bootstrap estimates\n",
        "    boot_est[i,j, ]= [np.mean(loc_pred_vals_boot), np.mean(scale_pred_vals_boot), np.mean(shape_pred_vals_boot)]\n",
        "    boot_return[i,j, ]= [np.mean(return_pred_vals20_boot), np.mean(return_pred_vals50_boot), np.mean(return_pred_vals1000_boot)]\n",
        "\n",
        "    # storing bootstrap standard deviation\n",
        "    boot_sd[i,j, ]= [np.std(loc_pred_vals_boot), np.std(scale_pred_vals_boot), np.std(shape_pred_vals_boot) ]\n",
        "    boot_return_sd[i,j, ]= [np.std(return_pred_vals20_boot), np.std(return_pred_vals50_boot), np.std(return_pred_vals1000_boot)]\n",
        "\n",
        "print(\"--- %s seconds ---\" % (time.time()-start_time))\n",
        "tot_time= (time.time()-start_time)"
      ],
      "metadata": {
        "id": "5bW-dCTSwLtA",
        "colab": {
          "base_uri": "https://localhost:8080/"
        },
        "outputId": "8a1f26fc-6c3c-49c2-8018-1c12b507741a"
      },
      "execution_count": 80,
      "outputs": [
        {
          "output_type": "stream",
          "name": "stdout",
          "text": [
            "32/32 [==============================] - 0s 3ms/step\n"
          ]
        },
        {
          "output_type": "stream",
          "name": "stderr",
          "text": [
            "/usr/local/lib/python3.10/dist-packages/scipy/stats/_continuous_distns.py:3053: RuntimeWarning:\n",
            "\n",
            "divide by zero encountered in divide\n",
            "\n"
          ]
        },
        {
          "output_type": "stream",
          "name": "stdout",
          "text": [
            "32/32 [==============================] - 0s 3ms/step\n",
            "32/32 [==============================] - 0s 3ms/step\n",
            "32/32 [==============================] - 0s 5ms/step\n",
            "32/32 [==============================] - 0s 5ms/step\n",
            "32/32 [==============================] - 0s 6ms/step\n",
            "32/32 [==============================] - 0s 5ms/step\n",
            "32/32 [==============================] - 0s 3ms/step\n",
            "32/32 [==============================] - 0s 3ms/step\n",
            "32/32 [==============================] - 0s 3ms/step\n",
            "32/32 [==============================] - 0s 3ms/step\n",
            "32/32 [==============================] - 0s 3ms/step\n",
            "32/32 [==============================] - 0s 3ms/step\n",
            "32/32 [==============================] - 0s 3ms/step\n",
            "32/32 [==============================] - 0s 3ms/step\n",
            "32/32 [==============================] - 0s 5ms/step\n",
            "32/32 [==============================] - 0s 4ms/step\n",
            "32/32 [==============================] - 0s 3ms/step\n",
            "32/32 [==============================] - 0s 3ms/step\n",
            "32/32 [==============================] - 0s 3ms/step\n",
            "32/32 [==============================] - 0s 3ms/step\n",
            "32/32 [==============================] - 0s 3ms/step\n",
            "32/32 [==============================] - 0s 3ms/step\n",
            "32/32 [==============================] - 0s 3ms/step\n",
            "32/32 [==============================] - 0s 3ms/step\n",
            "32/32 [==============================] - 0s 3ms/step\n",
            "32/32 [==============================] - 0s 5ms/step\n",
            "32/32 [==============================] - 0s 4ms/step\n",
            "32/32 [==============================] - 0s 3ms/step\n",
            "32/32 [==============================] - 0s 3ms/step\n",
            "32/32 [==============================] - 0s 2ms/step\n",
            "32/32 [==============================] - 0s 3ms/step\n",
            "32/32 [==============================] - 0s 3ms/step\n",
            "32/32 [==============================] - 0s 3ms/step\n",
            "32/32 [==============================] - 0s 3ms/step\n",
            "32/32 [==============================] - 0s 5ms/step\n",
            "32/32 [==============================] - 0s 5ms/step\n",
            "32/32 [==============================] - 0s 7ms/step\n",
            "32/32 [==============================] - 0s 4ms/step\n",
            "32/32 [==============================] - 0s 4ms/step\n",
            "32/32 [==============================] - 0s 4ms/step\n",
            "32/32 [==============================] - 0s 2ms/step\n",
            "32/32 [==============================] - 0s 3ms/step\n",
            "32/32 [==============================] - 0s 5ms/step\n",
            "32/32 [==============================] - 0s 6ms/step\n",
            "32/32 [==============================] - 0s 3ms/step\n",
            "32/32 [==============================] - 0s 4ms/step\n",
            "32/32 [==============================] - 0s 5ms/step\n",
            "32/32 [==============================] - 0s 4ms/step\n",
            "32/32 [==============================] - 0s 5ms/step\n",
            "32/32 [==============================] - 0s 6ms/step\n",
            "32/32 [==============================] - 0s 9ms/step\n",
            "32/32 [==============================] - 0s 6ms/step\n",
            "32/32 [==============================] - 0s 3ms/step\n",
            "32/32 [==============================] - 0s 3ms/step\n",
            "32/32 [==============================] - 0s 7ms/step\n",
            "32/32 [==============================] - 0s 5ms/step\n",
            "32/32 [==============================] - 0s 6ms/step\n",
            "32/32 [==============================] - 0s 3ms/step\n",
            "32/32 [==============================] - 0s 7ms/step\n",
            "32/32 [==============================] - 0s 3ms/step\n",
            "32/32 [==============================] - 0s 3ms/step\n",
            "32/32 [==============================] - 0s 7ms/step\n",
            "32/32 [==============================] - 0s 4ms/step\n",
            "32/32 [==============================] - 0s 3ms/step\n",
            "32/32 [==============================] - 0s 5ms/step\n",
            "32/32 [==============================] - 0s 5ms/step\n",
            "32/32 [==============================] - 0s 3ms/step\n",
            "32/32 [==============================] - 0s 4ms/step\n",
            "32/32 [==============================] - 0s 3ms/step\n",
            "32/32 [==============================] - 0s 3ms/step\n",
            "32/32 [==============================] - 0s 3ms/step\n",
            "32/32 [==============================] - 0s 3ms/step\n",
            "32/32 [==============================] - 0s 3ms/step\n",
            "32/32 [==============================] - 0s 3ms/step\n",
            "32/32 [==============================] - 0s 4ms/step\n",
            "32/32 [==============================] - 0s 5ms/step\n",
            "32/32 [==============================] - 0s 5ms/step\n",
            "32/32 [==============================] - 0s 3ms/step\n",
            "32/32 [==============================] - 0s 3ms/step\n",
            "32/32 [==============================] - 0s 3ms/step\n",
            "32/32 [==============================] - 0s 3ms/step\n",
            "32/32 [==============================] - 0s 3ms/step\n",
            "32/32 [==============================] - 0s 3ms/step\n",
            "32/32 [==============================] - 0s 3ms/step\n",
            "32/32 [==============================] - 0s 3ms/step\n",
            "32/32 [==============================] - 0s 5ms/step\n",
            "32/32 [==============================] - 0s 4ms/step\n",
            "32/32 [==============================] - 0s 3ms/step\n",
            "32/32 [==============================] - 0s 3ms/step\n",
            "32/32 [==============================] - 0s 3ms/step\n",
            "32/32 [==============================] - 0s 3ms/step\n",
            "32/32 [==============================] - 0s 3ms/step\n",
            "32/32 [==============================] - 0s 3ms/step\n",
            "32/32 [==============================] - 0s 3ms/step\n",
            "32/32 [==============================] - 0s 3ms/step\n",
            "32/32 [==============================] - 0s 3ms/step\n",
            "32/32 [==============================] - 0s 4ms/step\n",
            "32/32 [==============================] - 0s 4ms/step\n",
            "32/32 [==============================] - 0s 3ms/step\n",
            "32/32 [==============================] - 0s 3ms/step\n",
            "32/32 [==============================] - 0s 3ms/step\n",
            "32/32 [==============================] - 0s 3ms/step\n",
            "32/32 [==============================] - 0s 3ms/step\n",
            "32/32 [==============================] - 0s 3ms/step\n",
            "32/32 [==============================] - 0s 3ms/step\n",
            "32/32 [==============================] - 0s 3ms/step\n",
            "32/32 [==============================] - 0s 3ms/step\n",
            "32/32 [==============================] - 0s 5ms/step\n",
            "32/32 [==============================] - 0s 6ms/step\n",
            "32/32 [==============================] - 1s 19ms/step\n",
            "32/32 [==============================] - 0s 3ms/step\n",
            "32/32 [==============================] - 0s 3ms/step\n",
            "32/32 [==============================] - 0s 3ms/step\n",
            "32/32 [==============================] - 0s 3ms/step\n",
            "32/32 [==============================] - 0s 3ms/step\n",
            "32/32 [==============================] - 0s 4ms/step\n",
            "32/32 [==============================] - 0s 6ms/step\n",
            "32/32 [==============================] - 0s 5ms/step\n",
            "32/32 [==============================] - 0s 3ms/step\n",
            "32/32 [==============================] - 0s 4ms/step\n",
            "32/32 [==============================] - 0s 3ms/step\n",
            "32/32 [==============================] - 0s 3ms/step\n",
            "32/32 [==============================] - 0s 3ms/step\n",
            "32/32 [==============================] - 0s 3ms/step\n",
            "32/32 [==============================] - 0s 3ms/step\n",
            "32/32 [==============================] - 0s 4ms/step\n",
            "32/32 [==============================] - 0s 5ms/step\n",
            "32/32 [==============================] - 0s 5ms/step\n",
            "32/32 [==============================] - 0s 3ms/step\n",
            "32/32 [==============================] - 0s 3ms/step\n",
            "32/32 [==============================] - 0s 3ms/step\n",
            "32/32 [==============================] - 0s 3ms/step\n",
            "--- 191.91787242889404 seconds ---\n"
          ]
        }
      ]
    }
  ]
}